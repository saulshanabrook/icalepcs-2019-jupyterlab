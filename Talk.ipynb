{
 "cells": [
  {
   "cell_type": "markdown",
   "metadata": {},
   "source": [
    "# Talk"
   ]
  },
  {
   "cell_type": "markdown",
   "metadata": {},
   "source": [
    "`https://tiny.cc/saul-jl-19`"
   ]
  },
  {
   "cell_type": "markdown",
   "metadata": {
    "jupyter": {
     "source_hidden": true
    },
    "toc-hr-collapsed": true
   },
   "source": [
    "## Introduction\n",
    "\n",
    "Hello!\n",
    "\n",
    "I am Saul Shanabrook and I work at [Quansight](github.com/quansight/).\n",
    "\n",
    "Thank you for having me here today. I am grateful to be able to meet you all and have this space to share with you."
   ]
  },
  {
   "cell_type": "markdown",
   "metadata": {
    "jupyter": {
     "source_hidden": true
    }
   },
   "source": [
    "### Ground rules\n",
    "\n",
    "This is the deal. I have prepared some code and examples to show you. But I don't know you all. I don't know where you are coming from or what you are looking for exactly. So I wanna ask you all to helpe me out here. Please interact. Interrupt me if I am saying something that doesn'y make sense or if I am going too quickly or if you have a question. I would love to learn as well how what I am talking about fits into your day to day lives, so please interject with those types of questions or comments.\n",
    "\n",
    "I also am not an expert here. I know a few things about some tools, but this is a huge space and I am ignorant of lots of it. So please correct me if I am getting things wrong. I also don't know much about your work here, day to day. So excuse my ignorance on most things physics related!"
   ]
  },
  {
   "cell_type": "markdown",
   "metadata": {
    "jupyter": {
     "source_hidden": true
    }
   },
   "source": [
    "### Reference\n",
    "\n",
    "All of this material is online at `github.com/saulshanabrook/icalepcs-2019-jupyterlab`. You can run it all on binder. So if you are interested, go to this URL and click the link to follow along."
   ]
  },
  {
   "cell_type": "markdown",
   "metadata": {
    "jupyter": {
     "source_hidden": true
    },
    "toc-hr-collapsed": false
   },
   "source": [
    "## Outline"
   ]
  },
  {
   "cell_type": "markdown",
   "metadata": {
    "jupyter": {
     "source_hidden": true
    }
   },
   "source": [
    "### Image"
   ]
  },
  {
   "cell_type": "code",
   "execution_count": 1,
   "metadata": {
    "collapsed": true,
    "jupyter": {
     "outputs_hidden": true,
     "source_hidden": true
    }
   },
   "outputs": [
    {
     "data": {
      "application/vnd.jupyter.widget-view+json": {
       "model_id": "0b31e24f2e514555b0cec5c62911400a",
       "version_major": 2,
       "version_minor": 0
      },
      "text/plain": [
       "interactive(children=(IntSlider(value=0, description='i', max=5), Output()), _dom_classes=('widget-interact',)…"
      ]
     },
     "metadata": {},
     "output_type": "display_data"
    }
   ],
   "source": [
    "import ipywidgets\n",
    "\n",
    "@ipywidgets.interact(i=(0, 5))\n",
    "def display_diagram(i=0):\n",
    "    return ipywidgets.Image(value=open(f\"Talk{i}.png\", \"rb\").read())"
   ]
  },
  {
   "cell_type": "markdown",
   "metadata": {
    "jupyter": {
     "source_hidden": true
    }
   },
   "source": [
    "### Notes"
   ]
  },
  {
   "cell_type": "markdown",
   "metadata": {
    "jupyter": {
     "source_hidden": true
    }
   },
   "source": [
    "Jupyter is an ecosystem of tools and communites. In this image I am trying to explore a couple of them. This talk will mostly cover parts of the pink box, but no means all of it. \n",
    "\n",
    "\n",
    "Before I get to that, though, I wanna take a step back so we can understand some of the context.  In this \"Backend\" box, we have the real low level things our compute can do. Access files, run languages, and run commands.\n",
    "\n",
    "In the jupyter context, the interface to running language is called a \"kernel.\" So there is a \"kernel\" for running Python, for running Julia, and for R. These all exist as seperate installations and are maintained by seperate people.\n",
    "\n",
    "We have these resources, but we are humans, we aren't computers. We wanna take all the data we have and all the compute we have and make stories out of it. Literate programming, we are telling a narrative with our computers. This is where the notebook comes in. It lets you mix code, output, and text to tell. some sort of story.\n",
    "\n",
    "Let's ignore this history with ipython, etc and skip to jupyter notebook. That's the frontend you see and the server component. Most of you have probably used this. It's a web interface to edit notebooks and run them. So we have a server that talks to kernels to handle the actual execution and looks at your filesystem to read in the notebooks.\n",
    "\n",
    "\n",
    "That was all great, people loved it, etc. Huge success! Notebooks are awesome. And key to this early innovation was the modularity here. Different people could write kernels, and they didn't have to communicate. You could also write extension to the notebook, that let you add functionality. And this is where the trouble started...\n",
    "\n",
    "The original notebook interface worked fine for executing notebooks. But what if you wanted to also see some data next to your notebook? Or extend the UI in some way to show different outputs? The original JS just had a bunch of globals basically, so extensions could easily mess with things, but it was hard to keep them all working with each other and really build an ecosystem that could grow from them.\n",
    "\n",
    "So this is where jupyterlab comes in. It flips the problem on its head. Instead of saying \"we have this great notebook editor thing, how can we make it extensible?\" It says \"lets make a general purpose operating system in the browser, where notebook editing is possible, but it is just one of many things you can do\" So really, from the get go, JupyterLab was built for extensability and collaboration. So that's why today, I am going to show you some demos of tools that have already been built, but this. isn't really the strength.  The strength is that you can take these tools, and extend them for *your* use case, *your* data, *your* lab. Just like you can make a python library that handles data injestion for yourself, you can make jupyter lab extensions that help discover, display, and augment your data.\n",
    "\n",
    "Then on top of this, you have Jupyter Hub, which is used for starting up this whole thing for many users. So I might have my own, Katie has her own, etc. And Binder, is a free tool which lets you point at a Repo and say \"Make me this environment\" and it builds it with docker, pulling in all your deps, and uses jupyterhub to launch one and give it to you."
   ]
  },
  {
   "cell_type": "markdown",
   "metadata": {
    "jupyter": {
     "source_hidden": true
    },
    "toc-hr-collapsed": true
   },
   "source": [
    "### Questions"
   ]
  },
  {
   "cell_type": "markdown",
   "metadata": {
    "jupyter": {
     "source_hidden": true
    }
   },
   "source": [
    "Who here has used JupyterLab?"
   ]
  },
  {
   "cell_type": "markdown",
   "metadata": {
    "jupyter": {
     "source_hidden": true
    }
   },
   "source": [
    "Who here primarily uses JupyterLab?"
   ]
  },
  {
   "cell_type": "markdown",
   "metadata": {
    "jupyter": {
     "source_hidden": true
    }
   },
   "source": [
    "Who here primarily uses Jupyter Notebook?"
   ]
  },
  {
   "cell_type": "markdown",
   "metadata": {
    "jupyter": {
     "source_hidden": true
    }
   },
   "source": [
    "## Notebook Interaction"
   ]
  },
  {
   "cell_type": "markdown",
   "metadata": {
    "jupyter": {
     "source_hidden": true
    }
   },
   "source": [
    "## Notes\n",
    "Let's first explore JupyterLab's notebook execution, the bread and butter. ... Robert Rosca generously took the time to put together some notebooks showing interacting with HDF5 files in Python. I want to thank him for doing this, because I am not a physicist and I don't use hdf5 much. So hopefully these examples will be somewhat close to things you all have to do. If not, we will hopefully have some time at the end to dive into use cases you care about or, else we can do that more later one.\n",
    "\n",
    "\n",
    "So let's open the first notebook.\n",
    "\n",
    "here we are going to look at some hdf5 data. Let's view the datasets. Now, let's look at a couple other ways we could do this. \n",
    "\n",
    "We could also open the terminal here and view these files.\n",
    "\n",
    "Or we could open our file browser here and look at them as well.\n",
    "\n",
    "\n",
    "Now, lets look inside one of these files. We can use h5glance to show a outline. \n",
    "\n",
    "We could also use the hdf5 viewer "
   ]
  },
  {
   "cell_type": "markdown",
   "metadata": {
    "jupyter": {
     "source_hidden": true
    }
   },
   "source": [
    "## Link"
   ]
  },
  {
   "cell_type": "markdown",
   "metadata": {
    "jupyter": {
     "source_hidden": true
    }
   },
   "source": [
    "[open PMD](hdf5-examples/1-openPMD-example.ipynb)"
   ]
  },
  {
   "cell_type": "markdown",
   "metadata": {
    "jupyter": {
     "source_hidden": true
    }
   },
   "source": [
    "##"
   ]
  }
 ],
 "metadata": {
  "kernelspec": {
   "display_name": "Python 3",
   "language": "python",
   "name": "python3"
  },
  "language_info": {
   "codemirror_mode": {
    "name": "ipython",
    "version": 3
   },
   "file_extension": ".py",
   "mimetype": "text/x-python",
   "name": "python",
   "nbconvert_exporter": "python",
   "pygments_lexer": "ipython3",
   "version": "3.7.3"
  },
  "toc-autonumbering": false,
  "toc-showcode": false,
  "toc-showmarkdowntxt": false,
  "toc-showtags": false
 },
 "nbformat": 4,
 "nbformat_minor": 4
}
